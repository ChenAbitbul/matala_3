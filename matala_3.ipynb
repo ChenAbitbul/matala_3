{
 "cells": [
  {
   "cell_type": "markdown",
   "metadata": {},
   "source": [
    "#### Import libraries: "
   ]
  },
  {
   "cell_type": "code",
   "execution_count": 1,
   "metadata": {},
   "outputs": [],
   "source": [
    "import requests\n",
    "import json\n",
    "import pandas as pd\n",
    "import numpy as np\n",
    "import urllib.request"
   ]
  },
  {
   "cell_type": "markdown",
   "metadata": {},
   "source": [
    "#### Create data frame:"
   ]
  },
  {
   "cell_type": "code",
   "execution_count": 2,
   "metadata": {},
   "outputs": [],
   "source": [
    "df = pd.DataFrame(columns=['Target', 'Distance_km', 'Duration', 'Longitude','Latitude'])"
   ]
  },
  {
   "cell_type": "markdown",
   "metadata": {},
   "source": [
    "#### Column 'Target':"
   ]
  },
  {
   "cell_type": "code",
   "execution_count": 3,
   "metadata": {},
   "outputs": [],
   "source": [
    "# Read the text file of the destinations\n",
    "targets = pd.read_csv('C:\\\\Users\\\\Hen Abitbul\\\\Desktop\\\\כרייה וניתוח נתונים מתקדם בפייתון\\\\matalot\\\\dests.txt', header=None)\n",
    "\n",
    "# Add the targets to the 'Target' column of the data frame\n",
    "df['Target'] = targets[0]"
   ]
  },
  {
   "cell_type": "code",
   "execution_count": 4,
   "metadata": {},
   "outputs": [],
   "source": [
    "#### note- you need to add your key in the next 4 function below.\n",
    "#### and also to change the path"
   ]
  },
  {
   "cell_type": "markdown",
   "metadata": {},
   "source": [
    "#### Column 'Distance_km':"
   ]
  },
  {
   "cell_type": "code",
   "execution_count": 5,
   "metadata": {},
   "outputs": [],
   "source": [
    "def Distance_km(dest):\n",
    "    serviceurl='https://maps.googleapis.com/maps/api/distancematrix/json?'\n",
    "    parms = dict()\n",
    "    parms['destinations'] = dest\n",
    "    parms['origins'] = 'Tel Aviv'\n",
    "    parms['key'] = #'add_your_key'\n",
    "    url = serviceurl + urllib.parse.urlencode(parms)\n",
    "\n",
    "    try:\n",
    "        response = requests.get(url)\n",
    "        if not response.status_code == 200:\n",
    "            print(\"HTTP error\",response.status_code)\n",
    "        else:\n",
    "            try:\n",
    "                response_data = response.json()\n",
    "                return response_data['rows'][0]['elements'][0]['distance']['value'] / 1000 # in km\n",
    "            except:\n",
    "                print(\"Response not in valid JSON format\")\n",
    "    except:\n",
    "        print(\"Something went wrong with requests.get\")"
   ]
  },
  {
   "cell_type": "markdown",
   "metadata": {},
   "source": [
    "#### Column 'Duration':"
   ]
  },
  {
   "cell_type": "code",
   "execution_count": 6,
   "metadata": {},
   "outputs": [],
   "source": [
    "def Duration(dest):\n",
    "    serviceurl='https://maps.googleapis.com/maps/api/distancematrix/json?'\n",
    "    parms = dict()\n",
    "    parms['destinations'] = dest\n",
    "    parms['origins'] = 'Tel Aviv'\n",
    "    parms['key'] = #'add_your_key'\n",
    "    url = serviceurl + urllib.parse.urlencode(parms)\n",
    "\n",
    "    try:\n",
    "        response = requests.get(url)\n",
    "        if not response.status_code == 200:\n",
    "            print(\"HTTP error\",response.status_code)\n",
    "        else:\n",
    "            try:\n",
    "                response_data = response.json()\n",
    "                duration_seconds = response_data['rows'][0]['elements'][0]['duration']['value']\n",
    "                duration_minutes = duration_seconds // 60\n",
    "                duration_hours = duration_minutes // 60\n",
    "                duration_minutes = duration_minutes % 60\n",
    "                return f\"{duration_hours} hours {duration_minutes} minutes\"\n",
    "            except:\n",
    "                print(\"Response not in valid JSON format\")\n",
    "    except:\n",
    "        print(\"Something went wrong with requests.get\")"
   ]
  },
  {
   "cell_type": "markdown",
   "metadata": {},
   "source": [
    "#### Column 'Longitude':"
   ]
  },
  {
   "cell_type": "code",
   "execution_count": 7,
   "metadata": {},
   "outputs": [],
   "source": [
    "def get_lng(dest):\n",
    "    import requests\n",
    "    import urllib.request\n",
    "\n",
    "    serviceurl=\"https://maps.googleapis.com/maps/api/geocode/json?\"\n",
    "    parms = dict()\n",
    "    parms['address'] = dest\n",
    "    parms['key'] = #'add_your_key'\n",
    "    url = serviceurl + urllib.parse.urlencode(parms)\n",
    "\n",
    "    try:\n",
    "        response = requests.get(url)\n",
    "        if not response.status_code == 200:\n",
    "            print(\"HTTP error\",response.status_code)\n",
    "        else:\n",
    "            try:\n",
    "                response_data = response.json()\n",
    "                return(response_data['results'][0]['geometry']['location']['lng'])\n",
    "            except:\n",
    "                print(\"Response not in valid JSON format\")\n",
    "    except:\n",
    "        print(\"Something went wrong with requests.get\")"
   ]
  },
  {
   "cell_type": "markdown",
   "metadata": {},
   "source": [
    "#### Column 'Latitude':"
   ]
  },
  {
   "cell_type": "code",
   "execution_count": 8,
   "metadata": {},
   "outputs": [],
   "source": [
    "def get_lat(dest):\n",
    "    import requests\n",
    "    import urllib.request\n",
    "\n",
    "    serviceurl=\"https://maps.googleapis.com/maps/api/geocode/json?\"\n",
    "    parms = dict()\n",
    "    parms['address'] = dest\n",
    "    parms['key'] = #'add_your_key'\n",
    "    url = serviceurl + urllib.parse.urlencode(parms)\n",
    "\n",
    "    try:\n",
    "        response = requests.get(url)\n",
    "        if not response.status_code == 200:\n",
    "            print(\"HTTP error\",response.status_code)\n",
    "        else:\n",
    "            try:\n",
    "                response_data = response.json()\n",
    "                return(response_data['results'][0]['geometry']['location']['lat'])\n",
    "            except:\n",
    "                print(\"Response not in valid JSON format\")\n",
    "    except:\n",
    "        print(\"Something went wrong with requests.get\")\n",
    "     "
   ]
  },
  {
   "cell_type": "markdown",
   "metadata": {},
   "source": [
    "## Q1:"
   ]
  },
  {
   "cell_type": "markdown",
   "metadata": {},
   "source": [
    "#### Apply the targets on the functions- "
   ]
  },
  {
   "cell_type": "code",
   "execution_count": 9,
   "metadata": {},
   "outputs": [],
   "source": [
    "df['Distance_km'] = df.apply(lambda row: Distance_km( row['Target']), axis=1)\n",
    "df['Duration'] = df.apply(lambda row: Duration(row['Target']), axis=1)\n",
    "df['Longitude'] = df.apply(lambda row: get_lng(row['Target']), axis=1)\n",
    "df['Latitude'] = df.apply(lambda row: get_lat(row['Target']), axis=1)"
   ]
  },
  {
   "cell_type": "code",
   "execution_count": 10,
   "metadata": {},
   "outputs": [],
   "source": [
    "data = {\n",
    "    'Target': targets[0],\n",
    "    'Distance_km': df['Distance_km'],\n",
    "    'Duration':df['Duration'],\n",
    "    'Longitude': df['Longitude'],\n",
    "    'Latitude': df['Latitude']\n",
    "}"
   ]
  },
  {
   "cell_type": "markdown",
   "metadata": {},
   "source": [
    "#### The final data frame of the information-"
   ]
  },
  {
   "cell_type": "code",
   "execution_count": 11,
   "metadata": {},
   "outputs": [
    {
     "data": {
      "text/html": [
       "<div>\n",
       "<style scoped>\n",
       "    .dataframe tbody tr th:only-of-type {\n",
       "        vertical-align: middle;\n",
       "    }\n",
       "\n",
       "    .dataframe tbody tr th {\n",
       "        vertical-align: top;\n",
       "    }\n",
       "\n",
       "    .dataframe thead th {\n",
       "        text-align: right;\n",
       "    }\n",
       "</style>\n",
       "<table border=\"1\" class=\"dataframe\">\n",
       "  <thead>\n",
       "    <tr style=\"text-align: right;\">\n",
       "      <th></th>\n",
       "      <th>Distance_km</th>\n",
       "      <th>Duration</th>\n",
       "      <th>Longitude</th>\n",
       "      <th>Latitude</th>\n",
       "    </tr>\n",
       "    <tr>\n",
       "      <th>Target</th>\n",
       "      <th></th>\n",
       "      <th></th>\n",
       "      <th></th>\n",
       "      <th></th>\n",
       "    </tr>\n",
       "  </thead>\n",
       "  <tbody>\n",
       "    <tr>\n",
       "      <th>Istanbul</th>\n",
       "      <td>1815.227</td>\n",
       "      <td>21 hours 2 minutes</td>\n",
       "      <td>28.978359</td>\n",
       "      <td>41.008238</td>\n",
       "    </tr>\n",
       "    <tr>\n",
       "      <th>Amsterdam</th>\n",
       "      <td>4532.541</td>\n",
       "      <td>48 hours 3 minutes</td>\n",
       "      <td>4.904139</td>\n",
       "      <td>52.367573</td>\n",
       "    </tr>\n",
       "    <tr>\n",
       "      <th>Valletta</th>\n",
       "      <td>3792.883</td>\n",
       "      <td>50 hours 50 minutes</td>\n",
       "      <td>14.514100</td>\n",
       "      <td>35.899237</td>\n",
       "    </tr>\n",
       "    <tr>\n",
       "      <th>Basel</th>\n",
       "      <td>4092.805</td>\n",
       "      <td>44 hours 2 minutes</td>\n",
       "      <td>7.588576</td>\n",
       "      <td>47.559599</td>\n",
       "    </tr>\n",
       "    <tr>\n",
       "      <th>Doha</th>\n",
       "      <td>2164.477</td>\n",
       "      <td>22 hours 38 minutes</td>\n",
       "      <td>51.531040</td>\n",
       "      <td>25.285447</td>\n",
       "    </tr>\n",
       "  </tbody>\n",
       "</table>\n",
       "</div>"
      ],
      "text/plain": [
       "           Distance_km             Duration  Longitude   Latitude\n",
       "Target                                                           \n",
       "Istanbul      1815.227   21 hours 2 minutes  28.978359  41.008238\n",
       "Amsterdam     4532.541   48 hours 3 minutes   4.904139  52.367573\n",
       "Valletta      3792.883  50 hours 50 minutes  14.514100  35.899237\n",
       "Basel         4092.805   44 hours 2 minutes   7.588576  47.559599\n",
       "Doha          2164.477  22 hours 38 minutes  51.531040  25.285447"
      ]
     },
     "execution_count": 11,
     "metadata": {},
     "output_type": "execute_result"
    }
   ],
   "source": [
    "information = pd.DataFrame(data).set_index('Target', drop=True)\n",
    "information"
   ]
  },
  {
   "cell_type": "markdown",
   "metadata": {},
   "source": [
    "## Q2:"
   ]
  },
  {
   "cell_type": "markdown",
   "metadata": {},
   "source": [
    "#### The 3 cities furthest from Tel Aviv-"
   ]
  },
  {
   "cell_type": "code",
   "execution_count": 12,
   "metadata": {},
   "outputs": [
    {
     "data": {
      "text/html": [
       "<div>\n",
       "<style scoped>\n",
       "    .dataframe tbody tr th:only-of-type {\n",
       "        vertical-align: middle;\n",
       "    }\n",
       "\n",
       "    .dataframe tbody tr th {\n",
       "        vertical-align: top;\n",
       "    }\n",
       "\n",
       "    .dataframe thead th {\n",
       "        text-align: right;\n",
       "    }\n",
       "</style>\n",
       "<table border=\"1\" class=\"dataframe\">\n",
       "  <thead>\n",
       "    <tr style=\"text-align: right;\">\n",
       "      <th></th>\n",
       "      <th>Distance_km</th>\n",
       "      <th>Duration</th>\n",
       "      <th>Longitude</th>\n",
       "      <th>Latitude</th>\n",
       "    </tr>\n",
       "    <tr>\n",
       "      <th>Target</th>\n",
       "      <th></th>\n",
       "      <th></th>\n",
       "      <th></th>\n",
       "      <th></th>\n",
       "    </tr>\n",
       "  </thead>\n",
       "  <tbody>\n",
       "    <tr>\n",
       "      <th>Amsterdam</th>\n",
       "      <td>4532.541</td>\n",
       "      <td>48 hours 3 minutes</td>\n",
       "      <td>4.904139</td>\n",
       "      <td>52.367573</td>\n",
       "    </tr>\n",
       "    <tr>\n",
       "      <th>Basel</th>\n",
       "      <td>4092.805</td>\n",
       "      <td>44 hours 2 minutes</td>\n",
       "      <td>7.588576</td>\n",
       "      <td>47.559599</td>\n",
       "    </tr>\n",
       "    <tr>\n",
       "      <th>Valletta</th>\n",
       "      <td>3792.883</td>\n",
       "      <td>50 hours 50 minutes</td>\n",
       "      <td>14.514100</td>\n",
       "      <td>35.899237</td>\n",
       "    </tr>\n",
       "  </tbody>\n",
       "</table>\n",
       "</div>"
      ],
      "text/plain": [
       "           Distance_km             Duration  Longitude   Latitude\n",
       "Target                                                           \n",
       "Amsterdam     4532.541   48 hours 3 minutes   4.904139  52.367573\n",
       "Basel         4092.805   44 hours 2 minutes   7.588576  47.559599\n",
       "Valletta      3792.883  50 hours 50 minutes  14.514100  35.899237"
      ]
     },
     "execution_count": 12,
     "metadata": {},
     "output_type": "execute_result"
    }
   ],
   "source": [
    "top_3_cities = df.sort_values('Distance_km', ascending=False).head(3)\n",
    "top_3_cities.set_index('Target', drop=True)"
   ]
  }
 ],
 "metadata": {
  "kernelspec": {
   "display_name": "Python 3",
   "language": "python",
   "name": "python3"
  },
  "language_info": {
   "codemirror_mode": {
    "name": "ipython",
    "version": 3
   },
   "file_extension": ".py",
   "mimetype": "text/x-python",
   "name": "python",
   "nbconvert_exporter": "python",
   "pygments_lexer": "ipython3",
   "version": "3.8.3"
  }
 },
 "nbformat": 4,
 "nbformat_minor": 4
}
